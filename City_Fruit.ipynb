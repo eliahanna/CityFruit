{
  "nbformat": 4,
  "nbformat_minor": 0,
  "metadata": {
    "colab": {
      "name": "City Fruit.ipynb",
      "provenance": [],
      "toc_visible": true,
      "authorship_tag": "ABX9TyOLKlCuBm0v7b/3DHv0UQo5",
      "include_colab_link": true
    },
    "kernelspec": {
      "name": "python3",
      "display_name": "Python 3"
    }
  },
  "cells": [
    {
      "cell_type": "markdown",
      "metadata": {
        "id": "view-in-github",
        "colab_type": "text"
      },
      "source": [
        "<a href=\"https://colab.research.google.com/github/eliahanna/CityFruit/blob/master/City_Fruit.ipynb\" target=\"_parent\"><img src=\"https://colab.research.google.com/assets/colab-badge.svg\" alt=\"Open In Colab\"/></a>"
      ]
    },
    {
      "cell_type": "code",
      "metadata": {
        "id": "zSY7Bk_2gQOe",
        "colab_type": "code",
        "colab": {}
      },
      "source": [
        "import pandas as pd"
      ],
      "execution_count": 0,
      "outputs": []
    },
    {
      "cell_type": "markdown",
      "metadata": {
        "id": "4Dan-yZiC8F5",
        "colab_type": "text"
      },
      "source": [
        "## Key Links\n",
        "\n",
        "*   [Original Data Source](https://data-seattlecitygis.opendata.arcgis.com/datasets/trees)\n",
        "*   [Data Dictionary]( https://www.seattle.gov/Documents/Departments/SDOT/GIS/Trees_OD.pdf)\n",
        "\n",
        "\n",
        "\n"
      ]
    },
    {
      "cell_type": "code",
      "metadata": {
        "id": "VrMBohCPgWX0",
        "colab_type": "code",
        "colab": {}
      },
      "source": [
        "trees = pd.read_csv(\"https://raw.githubusercontent.com/eliahanna/CityFruit/master/Data/Trees.csv\", low_memory=False)"
      ],
      "execution_count": 0,
      "outputs": []
    },
    {
      "cell_type": "code",
      "metadata": {
        "id": "ffNG0sBzgqOI",
        "colab_type": "code",
        "outputId": "08731133-e019-4931-a018-c71a114403cc",
        "colab": {
          "base_uri": "https://localhost:8080/",
          "height": 482
        }
      },
      "source": [
        "trees.head()"
      ],
      "execution_count": 7,
      "outputs": [
        {
          "output_type": "execute_result",
          "data": {
            "text/html": [
              "<div>\n",
              "<style scoped>\n",
              "    .dataframe tbody tr th:only-of-type {\n",
              "        vertical-align: middle;\n",
              "    }\n",
              "\n",
              "    .dataframe tbody tr th {\n",
              "        vertical-align: top;\n",
              "    }\n",
              "\n",
              "    .dataframe thead th {\n",
              "        text-align: right;\n",
              "    }\n",
              "</style>\n",
              "<table border=\"1\" class=\"dataframe\">\n",
              "  <thead>\n",
              "    <tr style=\"text-align: right;\">\n",
              "      <th></th>\n",
              "      <th>X</th>\n",
              "      <th>Y</th>\n",
              "      <th>OBJECTID</th>\n",
              "      <th>COMPKEY</th>\n",
              "      <th>UNITID</th>\n",
              "      <th>UNITDESC</th>\n",
              "      <th>CONDITION</th>\n",
              "      <th>CONDITION_ASSESSMENT_DATE</th>\n",
              "      <th>CURRENT_STATUS</th>\n",
              "      <th>PRIMARYDISTRICTCD</th>\n",
              "      <th>SECONDARYDISTRICTCD</th>\n",
              "      <th>OVERRIDEYN</th>\n",
              "      <th>COMPTYPE</th>\n",
              "      <th>SEGKEY</th>\n",
              "      <th>UNITTYPE</th>\n",
              "      <th>OWNERSHIP</th>\n",
              "      <th>CURRENT_STATUS_DATE</th>\n",
              "      <th>LAST_VERIFY_DATE</th>\n",
              "      <th>PLANTED_DATE</th>\n",
              "      <th>BOTANICAL_NAME</th>\n",
              "      <th>SCIENTIFIC_NAME</th>\n",
              "      <th>HERITAGE</th>\n",
              "      <th>EXCEPTIONAL</th>\n",
              "      <th>CODEREQ</th>\n",
              "      <th>GSI</th>\n",
              "      <th>GREEN_FACTOR</th>\n",
              "      <th>WIRES</th>\n",
              "      <th>CABLED</th>\n",
              "      <th>CLEARANCE_PROBLEM</th>\n",
              "      <th>SPACETYPE</th>\n",
              "      <th>SITETYPE</th>\n",
              "      <th>GROWSPACE</th>\n",
              "      <th>DIAM</th>\n",
              "      <th>CONDITION_RATING</th>\n",
              "      <th>FUNDING_SOURCE</th>\n",
              "      <th>WATER_THROUGH_YR1</th>\n",
              "      <th>WATER_THROUGH_YR2</th>\n",
              "      <th>WATER_THROUGH_YR3</th>\n",
              "      <th>OWNERDIAM</th>\n",
              "      <th>EXPDATE</th>\n",
              "      <th>COMMON_NAME</th>\n",
              "      <th>TREEHEIGHT</th>\n",
              "      <th>ASBUILTPLANNO</th>\n",
              "      <th>LANDSCAPEAREAASSOC</th>\n",
              "      <th>COMMENTS</th>\n",
              "      <th>OVERRIDECOMMENT</th>\n",
              "      <th>SHAPE_LNG</th>\n",
              "      <th>SHAPE_LAT</th>\n",
              "      <th>IRRIGATESYSYN</th>\n",
              "      <th>ASSETGROUPID</th>\n",
              "      <th>ASSETGROUPDESC</th>\n",
              "      <th>MODDATE</th>\n",
              "      <th>MODBY</th>\n",
              "      <th>TOTAL_RANK</th>\n",
              "      <th>TOTAL_COUNT</th>\n",
              "      <th>GENUS</th>\n",
              "      <th>UFMAINTMGMTUNIT</th>\n",
              "    </tr>\n",
              "  </thead>\n",
              "  <tbody>\n",
              "    <tr>\n",
              "      <th>0</th>\n",
              "      <td>-122.282080</td>\n",
              "      <td>47.635207</td>\n",
              "      <td>1001</td>\n",
              "      <td>207813</td>\n",
              "      <td>TRE-40101</td>\n",
              "      <td>1817 40TH AV E</td>\n",
              "      <td></td>\n",
              "      <td>NaN</td>\n",
              "      <td>INSVC</td>\n",
              "      <td>DISTRICT3</td>\n",
              "      <td></td>\n",
              "      <td>N</td>\n",
              "      <td>36</td>\n",
              "      <td>6301</td>\n",
              "      <td>TRE</td>\n",
              "      <td>PRIV</td>\n",
              "      <td>NaN</td>\n",
              "      <td>NaN</td>\n",
              "      <td>1991-07-22T00:00:00.000Z</td>\n",
              "      <td>BEPE</td>\n",
              "      <td>Betula pendula</td>\n",
              "      <td>N</td>\n",
              "      <td>N</td>\n",
              "      <td>N</td>\n",
              "      <td>N</td>\n",
              "      <td>N</td>\n",
              "      <td>N</td>\n",
              "      <td>N</td>\n",
              "      <td>N</td>\n",
              "      <td>GRASS</td>\n",
              "      <td></td>\n",
              "      <td>11</td>\n",
              "      <td>16</td>\n",
              "      <td>5</td>\n",
              "      <td>PVT</td>\n",
              "      <td>0</td>\n",
              "      <td>0</td>\n",
              "      <td>0</td>\n",
              "      <td>PRIV2</td>\n",
              "      <td>NaN</td>\n",
              "      <td>(European) White Birch</td>\n",
              "      <td>0.0</td>\n",
              "      <td>NaN</td>\n",
              "      <td>1</td>\n",
              "      <td>TrunkLean=0, Topped=0, BrnDefect=0, TrnDefect=...</td>\n",
              "      <td>NaN</td>\n",
              "      <td>-122.282080</td>\n",
              "      <td>47.635207</td>\n",
              "      <td>N</td>\n",
              "      <td></td>\n",
              "      <td></td>\n",
              "      <td>2019-04-27T00:00:00.000Z</td>\n",
              "      <td>AE996</td>\n",
              "      <td>10.0</td>\n",
              "      <td>4242.0</td>\n",
              "      <td>Betula</td>\n",
              "      <td>NaN</td>\n",
              "    </tr>\n",
              "    <tr>\n",
              "      <th>1</th>\n",
              "      <td>-122.310243</td>\n",
              "      <td>47.597548</td>\n",
              "      <td>1003</td>\n",
              "      <td>238379</td>\n",
              "      <td>TRE-70667</td>\n",
              "      <td>1632 S WELLER ST</td>\n",
              "      <td></td>\n",
              "      <td>NaN</td>\n",
              "      <td>INSVC</td>\n",
              "      <td>DISTRICT3</td>\n",
              "      <td></td>\n",
              "      <td>N</td>\n",
              "      <td>36</td>\n",
              "      <td>21539</td>\n",
              "      <td>TRE</td>\n",
              "      <td>PRIV</td>\n",
              "      <td>NaN</td>\n",
              "      <td>NaN</td>\n",
              "      <td>1990-08-16T00:00:00.000Z</td>\n",
              "      <td>QURU</td>\n",
              "      <td>Quercus rubra</td>\n",
              "      <td>N</td>\n",
              "      <td>N</td>\n",
              "      <td>N</td>\n",
              "      <td>N</td>\n",
              "      <td>N</td>\n",
              "      <td>N</td>\n",
              "      <td>N</td>\n",
              "      <td>N</td>\n",
              "      <td>GRASS</td>\n",
              "      <td></td>\n",
              "      <td>8</td>\n",
              "      <td>13</td>\n",
              "      <td>4</td>\n",
              "      <td>PVT</td>\n",
              "      <td>0</td>\n",
              "      <td>0</td>\n",
              "      <td>0</td>\n",
              "      <td>PRIV2</td>\n",
              "      <td>NaN</td>\n",
              "      <td>Red Oak</td>\n",
              "      <td>0.0</td>\n",
              "      <td>NaN</td>\n",
              "      <td>1</td>\n",
              "      <td>TrunkLean=1, Topped=0, BrnDefect=0, TrnDefect=...</td>\n",
              "      <td>NaN</td>\n",
              "      <td>-122.310243</td>\n",
              "      <td>47.597548</td>\n",
              "      <td>N</td>\n",
              "      <td></td>\n",
              "      <td></td>\n",
              "      <td>2019-04-27T00:00:00.000Z</td>\n",
              "      <td>AE996</td>\n",
              "      <td>5.0</td>\n",
              "      <td>6723.0</td>\n",
              "      <td>Quercus</td>\n",
              "      <td>NaN</td>\n",
              "    </tr>\n",
              "    <tr>\n",
              "      <th>2</th>\n",
              "      <td>-122.355204</td>\n",
              "      <td>47.673916</td>\n",
              "      <td>1004</td>\n",
              "      <td>172873</td>\n",
              "      <td>TRE-5161</td>\n",
              "      <td>300 N 62ND ST</td>\n",
              "      <td></td>\n",
              "      <td>NaN</td>\n",
              "      <td>INSVC</td>\n",
              "      <td>DISTRICT6</td>\n",
              "      <td></td>\n",
              "      <td>N</td>\n",
              "      <td>36</td>\n",
              "      <td>15754</td>\n",
              "      <td>TRE</td>\n",
              "      <td>PRIV</td>\n",
              "      <td>NaN</td>\n",
              "      <td>2017-08-15T00:00:00.000Z</td>\n",
              "      <td>1992-06-25T00:00:00.000Z</td>\n",
              "      <td>MA2</td>\n",
              "      <td>Malus sp.</td>\n",
              "      <td>N</td>\n",
              "      <td>N</td>\n",
              "      <td>N</td>\n",
              "      <td>N</td>\n",
              "      <td>N</td>\n",
              "      <td>Y</td>\n",
              "      <td>N</td>\n",
              "      <td>N</td>\n",
              "      <td>GRASS</td>\n",
              "      <td></td>\n",
              "      <td>4</td>\n",
              "      <td>6</td>\n",
              "      <td>1</td>\n",
              "      <td>PVT</td>\n",
              "      <td>0</td>\n",
              "      <td>0</td>\n",
              "      <td>0</td>\n",
              "      <td>PRIV1</td>\n",
              "      <td>NaN</td>\n",
              "      <td>Apple/Crabapple</td>\n",
              "      <td>0.0</td>\n",
              "      <td>NaN</td>\n",
              "      <td>1</td>\n",
              "      <td>TrunkLean=0, Topped=0, BrnDefect=0, TrnDefect=...</td>\n",
              "      <td>NaN</td>\n",
              "      <td>-122.355204</td>\n",
              "      <td>47.673916</td>\n",
              "      <td>N</td>\n",
              "      <td></td>\n",
              "      <td></td>\n",
              "      <td>2019-04-27T00:00:00.000Z</td>\n",
              "      <td>AE996</td>\n",
              "      <td>3.0</td>\n",
              "      <td>8607.0</td>\n",
              "      <td>Malus</td>\n",
              "      <td>NaN</td>\n",
              "    </tr>\n",
              "    <tr>\n",
              "      <th>3</th>\n",
              "      <td>-122.318952</td>\n",
              "      <td>47.649141</td>\n",
              "      <td>1006</td>\n",
              "      <td>194961</td>\n",
              "      <td>TRE-27249</td>\n",
              "      <td>3120 FUHRMAN AV E</td>\n",
              "      <td></td>\n",
              "      <td>NaN</td>\n",
              "      <td>INSVC</td>\n",
              "      <td>DISTRICT3</td>\n",
              "      <td></td>\n",
              "      <td>N</td>\n",
              "      <td>36</td>\n",
              "      <td>10576</td>\n",
              "      <td>TRE</td>\n",
              "      <td>PRIV</td>\n",
              "      <td>NaN</td>\n",
              "      <td>NaN</td>\n",
              "      <td>1991-07-30T00:00:00.000Z</td>\n",
              "      <td>PRSE2</td>\n",
              "      <td>Prunus  `Kwanzan` (Sato Zakura</td>\n",
              "      <td>N</td>\n",
              "      <td>N</td>\n",
              "      <td>N</td>\n",
              "      <td>N</td>\n",
              "      <td>N</td>\n",
              "      <td>N</td>\n",
              "      <td>N</td>\n",
              "      <td>N</td>\n",
              "      <td>OTHER</td>\n",
              "      <td></td>\n",
              "      <td>5</td>\n",
              "      <td>2</td>\n",
              "      <td>3</td>\n",
              "      <td>PVT</td>\n",
              "      <td>0</td>\n",
              "      <td>0</td>\n",
              "      <td>0</td>\n",
              "      <td>PRIV1</td>\n",
              "      <td>NaN</td>\n",
              "      <td>Kwanzan Flowering Cherry</td>\n",
              "      <td>0.0</td>\n",
              "      <td>NaN</td>\n",
              "      <td>1</td>\n",
              "      <td>TrunkLean=0, Topped=2, BrnDefect=2, TrnDefect=...</td>\n",
              "      <td>NaN</td>\n",
              "      <td>-122.318952</td>\n",
              "      <td>47.649141</td>\n",
              "      <td>N</td>\n",
              "      <td></td>\n",
              "      <td></td>\n",
              "      <td>2019-04-27T00:00:00.000Z</td>\n",
              "      <td>AE996</td>\n",
              "      <td>2.0</td>\n",
              "      <td>28325.0</td>\n",
              "      <td>Prunus</td>\n",
              "      <td>NaN</td>\n",
              "    </tr>\n",
              "    <tr>\n",
              "      <th>4</th>\n",
              "      <td>-122.344731</td>\n",
              "      <td>47.613092</td>\n",
              "      <td>1007</td>\n",
              "      <td>218900</td>\n",
              "      <td>TRE-51188</td>\n",
              "      <td>120 BLANCHARD ST</td>\n",
              "      <td></td>\n",
              "      <td>NaN</td>\n",
              "      <td>INSVC</td>\n",
              "      <td>DISTRICT7</td>\n",
              "      <td></td>\n",
              "      <td>N</td>\n",
              "      <td>36</td>\n",
              "      <td>9291</td>\n",
              "      <td>TRE</td>\n",
              "      <td>SDOT</td>\n",
              "      <td>NaN</td>\n",
              "      <td>2008-12-31T00:00:00.000Z</td>\n",
              "      <td>1991-07-16T00:00:00.000Z</td>\n",
              "      <td>ACCA</td>\n",
              "      <td>Acer campestre</td>\n",
              "      <td>N</td>\n",
              "      <td>N</td>\n",
              "      <td>N</td>\n",
              "      <td>N</td>\n",
              "      <td>N</td>\n",
              "      <td>N</td>\n",
              "      <td>N</td>\n",
              "      <td>N</td>\n",
              "      <td>OTHER</td>\n",
              "      <td>PIT</td>\n",
              "      <td>4</td>\n",
              "      <td>6</td>\n",
              "      <td>5</td>\n",
              "      <td>SDOT</td>\n",
              "      <td>0</td>\n",
              "      <td>1992</td>\n",
              "      <td>1993</td>\n",
              "      <td>SDOT1</td>\n",
              "      <td>NaN</td>\n",
              "      <td>English (Hedge) Maple</td>\n",
              "      <td>0.0</td>\n",
              "      <td>NaN</td>\n",
              "      <td>1</td>\n",
              "      <td>TrunkLean=0, Topped=0, BrnDefect=0, TrnDefect=...</td>\n",
              "      <td>NaN</td>\n",
              "      <td>-122.344731</td>\n",
              "      <td>47.613092</td>\n",
              "      <td>N</td>\n",
              "      <td></td>\n",
              "      <td></td>\n",
              "      <td>2019-04-27T00:00:00.000Z</td>\n",
              "      <td>AE996</td>\n",
              "      <td>1.0</td>\n",
              "      <td>35552.0</td>\n",
              "      <td>Acer</td>\n",
              "      <td>NaN</td>\n",
              "    </tr>\n",
              "  </tbody>\n",
              "</table>\n",
              "</div>"
            ],
            "text/plain": [
              "            X          Y  OBJECTID  ...  TOTAL_COUNT    GENUS UFMAINTMGMTUNIT\n",
              "0 -122.282080  47.635207      1001  ...       4242.0   Betula             NaN\n",
              "1 -122.310243  47.597548      1003  ...       6723.0  Quercus             NaN\n",
              "2 -122.355204  47.673916      1004  ...       8607.0    Malus             NaN\n",
              "3 -122.318952  47.649141      1006  ...      28325.0   Prunus             NaN\n",
              "4 -122.344731  47.613092      1007  ...      35552.0     Acer             NaN\n",
              "\n",
              "[5 rows x 57 columns]"
            ]
          },
          "metadata": {
            "tags": []
          },
          "execution_count": 7
        }
      ]
    },
    {
      "cell_type": "code",
      "metadata": {
        "id": "D8uc61cngtwt",
        "colab_type": "code",
        "outputId": "c13801a8-28a0-4662-b50e-f6533a4c1eb4",
        "colab": {
          "base_uri": "https://localhost:8080/",
          "height": 35
        }
      },
      "source": [
        "trees.shape"
      ],
      "execution_count": 0,
      "outputs": [
        {
          "output_type": "execute_result",
          "data": {
            "text/plain": [
              "(165545, 57)"
            ]
          },
          "metadata": {
            "tags": []
          },
          "execution_count": 53
        }
      ]
    },
    {
      "cell_type": "code",
      "metadata": {
        "id": "utEZnz25hIuP",
        "colab_type": "code",
        "outputId": "e71b71d1-71a9-4f77-ceae-6eb031339f4b",
        "colab": {
          "base_uri": "https://localhost:8080/",
          "height": 35
        }
      },
      "source": [
        "trees['OBJECTID'].nunique()"
      ],
      "execution_count": 0,
      "outputs": [
        {
          "output_type": "execute_result",
          "data": {
            "text/plain": [
              "94899"
            ]
          },
          "metadata": {
            "tags": []
          },
          "execution_count": 5
        }
      ]
    },
    {
      "cell_type": "code",
      "metadata": {
        "id": "TwlSr091hUkK",
        "colab_type": "code",
        "outputId": "bb811a72-47b2-455a-85ac-7e94269a5aa6",
        "colab": {
          "base_uri": "https://localhost:8080/",
          "height": 35
        }
      },
      "source": [
        "trees['UNITID'].nunique()"
      ],
      "execution_count": 0,
      "outputs": [
        {
          "output_type": "execute_result",
          "data": {
            "text/plain": [
              "94899"
            ]
          },
          "metadata": {
            "tags": []
          },
          "execution_count": 6
        }
      ]
    },
    {
      "cell_type": "code",
      "metadata": {
        "id": "nuOfwm7phd6z",
        "colab_type": "code",
        "outputId": "a03bba2b-0d4d-4a86-e46f-2003b3609c32",
        "colab": {
          "base_uri": "https://localhost:8080/",
          "height": 35
        }
      },
      "source": [
        "trees['COMPKEY'].nunique()"
      ],
      "execution_count": 0,
      "outputs": [
        {
          "output_type": "execute_result",
          "data": {
            "text/plain": [
              "94899"
            ]
          },
          "metadata": {
            "tags": []
          },
          "execution_count": 7
        }
      ]
    },
    {
      "cell_type": "code",
      "metadata": {
        "id": "zhd1ytQFhjrT",
        "colab_type": "code",
        "outputId": "a1f2b535-852b-4b92-ee28-23cba4e94c99",
        "colab": {
          "base_uri": "https://localhost:8080/",
          "height": 225
        }
      },
      "source": [
        "trees['UNITDESC'].value_counts()"
      ],
      "execution_count": 0,
      "outputs": [
        {
          "output_type": "execute_result",
          "data": {
            "text/plain": [
              "500 BROAD ST        95\n",
              "500 5TH AV          92\n",
              "200 MERCER ST       92\n",
              "222 2ND AV          82\n",
              "223 2ND AV          77\n",
              "                    ..\n",
              "459 ROY ST           1\n",
              "1402 NW 57TH ST      1\n",
              "227 NW 41ST ST       1\n",
              "5431 40TH AVE SW     1\n",
              "1046 1ST AV S        1\n",
              "Name: UNITDESC, Length: 42084, dtype: int64"
            ]
          },
          "metadata": {
            "tags": []
          },
          "execution_count": 9
        }
      ]
    },
    {
      "cell_type": "code",
      "metadata": {
        "id": "5w66u6Lvh4rV",
        "colab_type": "code",
        "outputId": "8310fcb8-c0b9-4961-ac69-e74fe11ee4de",
        "colab": {
          "base_uri": "https://localhost:8080/",
          "height": 87
        }
      },
      "source": [
        "trees['CONDITION'].value_counts()"
      ],
      "execution_count": 0,
      "outputs": [
        {
          "output_type": "execute_result",
          "data": {
            "text/plain": [
              "        94897\n",
              "GOOD        1\n",
              "FAIR        1\n",
              "Name: CONDITION, dtype: int64"
            ]
          },
          "metadata": {
            "tags": []
          },
          "execution_count": 10
        }
      ]
    },
    {
      "cell_type": "code",
      "metadata": {
        "id": "a4W5eoF8iJvw",
        "colab_type": "code",
        "outputId": "0be9e8af-05b2-4fee-c3b7-4d6f1e7e3373",
        "colab": {
          "base_uri": "https://localhost:8080/",
          "height": 797
        }
      },
      "source": [
        "trees['CONDITION_ASSESSMENT_DATE'].value_counts()"
      ],
      "execution_count": 0,
      "outputs": [
        {
          "output_type": "execute_result",
          "data": {
            "text/plain": [
              "2016-02-01T00:00:00.000Z    61\n",
              "2019-10-02T00:00:00.000Z    51\n",
              "2016-01-28T00:00:00.000Z    50\n",
              "2016-01-20T00:00:00.000Z    46\n",
              "2016-02-05T00:00:00.000Z    46\n",
              "2016-02-02T00:00:00.000Z    44\n",
              "2016-01-27T00:00:00.000Z    38\n",
              "2016-02-18T00:00:00.000Z    38\n",
              "2016-03-16T00:00:00.000Z    35\n",
              "2015-12-10T00:00:00.000Z    30\n",
              "2016-01-25T00:00:00.000Z    21\n",
              "2015-12-11T00:00:00.000Z    17\n",
              "2016-01-22T00:00:00.000Z    15\n",
              "2016-03-30T00:00:00.000Z    12\n",
              "2016-01-29T00:00:00.000Z    10\n",
              "2016-02-08T00:00:00.000Z    10\n",
              "2016-04-13T00:00:00.000Z     9\n",
              "2016-08-09T00:00:00.000Z     8\n",
              "2016-06-06T00:00:00.000Z     7\n",
              "2016-08-04T00:00:00.000Z     4\n",
              "2016-03-18T00:00:00.000Z     4\n",
              "2016-01-11T00:00:00.000Z     3\n",
              "2016-02-10T00:00:00.000Z     3\n",
              "2016-01-07T00:00:00.000Z     3\n",
              "2015-12-03T00:00:00.000Z     2\n",
              "2015-12-06T00:00:00.000Z     2\n",
              "2018-08-24T00:00:00.000Z     1\n",
              "2015-12-22T00:00:00.000Z     1\n",
              "2015-09-18T00:00:00.000Z     1\n",
              "2015-12-02T00:00:00.000Z     1\n",
              "2016-02-12T00:00:00.000Z     1\n",
              "2019-09-03T00:00:00.000Z     1\n",
              "2015-09-29T00:00:00.000Z     1\n",
              "2018-06-26T00:00:00.000Z     1\n",
              "2019-08-21T00:00:00.000Z     1\n",
              "2018-10-01T00:00:00.000Z     1\n",
              "2015-09-19T00:00:00.000Z     1\n",
              "2016-01-08T00:00:00.000Z     1\n",
              "2016-05-05T00:00:00.000Z     1\n",
              "2019-08-20T00:00:00.000Z     1\n",
              "2015-09-22T00:00:00.000Z     1\n",
              "2016-05-25T00:00:00.000Z     1\n",
              "2015-12-07T00:00:00.000Z     1\n",
              "2014-02-04T00:00:00.000Z     1\n",
              "Name: CONDITION_ASSESSMENT_DATE, dtype: int64"
            ]
          },
          "metadata": {
            "tags": []
          },
          "execution_count": 11
        }
      ]
    },
    {
      "cell_type": "code",
      "metadata": {
        "id": "c0bHKgEqiVUx",
        "colab_type": "code",
        "outputId": "bf96722d-1942-4a5d-e8d8-d753c47bbc19",
        "colab": {
          "base_uri": "https://localhost:8080/",
          "height": 52
        }
      },
      "source": [
        "trees['CURRENT_STATUS'].value_counts()"
      ],
      "execution_count": 0,
      "outputs": [
        {
          "output_type": "execute_result",
          "data": {
            "text/plain": [
              "INSVC    94899\n",
              "Name: CURRENT_STATUS, dtype: int64"
            ]
          },
          "metadata": {
            "tags": []
          },
          "execution_count": 12
        }
      ]
    },
    {
      "cell_type": "code",
      "metadata": {
        "id": "MS4afrZfibbp",
        "colab_type": "code",
        "outputId": "ec3af0fe-95fc-4a6f-8b98-eb06b23d23d1",
        "colab": {
          "base_uri": "https://localhost:8080/",
          "height": 156
        }
      },
      "source": [
        "trees['PRIMARYDISTRICTCD'].value_counts()"
      ],
      "execution_count": 0,
      "outputs": [
        {
          "output_type": "execute_result",
          "data": {
            "text/plain": [
              "DISTRICT3    18033\n",
              "DISTRICT1    16393\n",
              "DISTRICT4    14592\n",
              "DISTRICT6    14258\n",
              "DISTRICT7    13888\n",
              "DISTRICT2    11983\n",
              "DISTRICT5     5752\n",
              "Name: PRIMARYDISTRICTCD, dtype: int64"
            ]
          },
          "metadata": {
            "tags": []
          },
          "execution_count": 13
        }
      ]
    },
    {
      "cell_type": "code",
      "metadata": {
        "id": "bnPkACqWil2b",
        "colab_type": "code",
        "outputId": "706c6b20-a450-48fe-8b08-9f85d38e8dc7",
        "colab": {
          "base_uri": "https://localhost:8080/",
          "height": 156
        }
      },
      "source": [
        "trees['SECONDARYDISTRICTCD'].value_counts()"
      ],
      "execution_count": 0,
      "outputs": [
        {
          "output_type": "execute_result",
          "data": {
            "text/plain": [
              "             94015\n",
              "DISTRICT4      227\n",
              "DISTRICT6      201\n",
              "DISTRICT2      184\n",
              "DISTRICT3      164\n",
              "DISTRICT7       69\n",
              "DISTRICT5       39\n",
              "Name: SECONDARYDISTRICTCD, dtype: int64"
            ]
          },
          "metadata": {
            "tags": []
          },
          "execution_count": 14
        }
      ]
    },
    {
      "cell_type": "code",
      "metadata": {
        "id": "TeVIHeG4iqGD",
        "colab_type": "code",
        "outputId": "99fac166-70f2-403b-acdd-095e51c5bd55",
        "colab": {
          "base_uri": "https://localhost:8080/",
          "height": 52
        }
      },
      "source": [
        "trees['OVERRIDEYN'].value_counts()"
      ],
      "execution_count": 0,
      "outputs": [
        {
          "output_type": "execute_result",
          "data": {
            "text/plain": [
              "N    94899\n",
              "Name: OVERRIDEYN, dtype: int64"
            ]
          },
          "metadata": {
            "tags": []
          },
          "execution_count": 15
        }
      ]
    },
    {
      "cell_type": "code",
      "metadata": {
        "id": "V49s7-dei3Rb",
        "colab_type": "code",
        "outputId": "dbfb6ae8-069c-417a-ba7f-d3b9cab4ff62",
        "colab": {
          "base_uri": "https://localhost:8080/",
          "height": 52
        }
      },
      "source": [
        "trees['COMPTYPE'].value_counts()"
      ],
      "execution_count": 0,
      "outputs": [
        {
          "output_type": "execute_result",
          "data": {
            "text/plain": [
              "36    94899\n",
              "Name: COMPTYPE, dtype: int64"
            ]
          },
          "metadata": {
            "tags": []
          },
          "execution_count": 16
        }
      ]
    },
    {
      "cell_type": "code",
      "metadata": {
        "id": "xsD96fZdi78s",
        "colab_type": "code",
        "outputId": "1e190e8c-eef8-4398-f791-c63eaf7c80e4",
        "colab": {
          "base_uri": "https://localhost:8080/",
          "height": 225
        }
      },
      "source": [
        "trees['SEGKEY'].value_counts()"
      ],
      "execution_count": 0,
      "outputs": [
        {
          "output_type": "execute_result",
          "data": {
            "text/plain": [
              "2773     214\n",
              "9126     145\n",
              "2332     144\n",
              "12554    127\n",
              "9417     106\n",
              "        ... \n",
              "14592      1\n",
              "17724      1\n",
              "23406      1\n",
              "19353      1\n",
              "18917      1\n",
              "Name: SEGKEY, Length: 12299, dtype: int64"
            ]
          },
          "metadata": {
            "tags": []
          },
          "execution_count": 17
        }
      ]
    },
    {
      "cell_type": "code",
      "metadata": {
        "id": "k3th0gGZjB81",
        "colab_type": "code",
        "outputId": "71dcfb5a-b04e-495f-8358-14b49a7f4465",
        "colab": {
          "base_uri": "https://localhost:8080/",
          "height": 52
        }
      },
      "source": [
        "trees['UNITTYPE'].value_counts()"
      ],
      "execution_count": 0,
      "outputs": [
        {
          "output_type": "execute_result",
          "data": {
            "text/plain": [
              "TRE    94899\n",
              "Name: UNITTYPE, dtype: int64"
            ]
          },
          "metadata": {
            "tags": []
          },
          "execution_count": 18
        }
      ]
    },
    {
      "cell_type": "code",
      "metadata": {
        "id": "rznJV4vbjHEd",
        "colab_type": "code",
        "outputId": "22fbef5f-9c3a-4f84-8666-afc5cb782f8f",
        "colab": {
          "base_uri": "https://localhost:8080/",
          "height": 208
        }
      },
      "source": [
        "trees['OWNERSHIP'].value_counts()"
      ],
      "execution_count": 0,
      "outputs": [
        {
          "output_type": "execute_result",
          "data": {
            "text/plain": [
              "PRIV     65992\n",
              "SDOT     26690\n",
              "PARK      1323\n",
              "SEAC       771\n",
              "SPU         55\n",
              "SCL         48\n",
              "FFD         11\n",
              "OTHER        6\n",
              "SPS          2\n",
              "CJOTS        1\n",
              "Name: OWNERSHIP, dtype: int64"
            ]
          },
          "metadata": {
            "tags": []
          },
          "execution_count": 19
        }
      ]
    },
    {
      "cell_type": "code",
      "metadata": {
        "id": "OKmHoc3fjK7c",
        "colab_type": "code",
        "outputId": "b0b7fdc1-a13d-47d7-f1cd-4f615026031e",
        "colab": {
          "base_uri": "https://localhost:8080/",
          "height": 225
        }
      },
      "source": [
        "trees['BOTANICAL_NAME'].value_counts()"
      ],
      "execution_count": 0,
      "outputs": [
        {
          "output_type": "execute_result",
          "data": {
            "text/plain": [
              "ACRU      3594\n",
              "ACPL      3441\n",
              "CRLA80    3321\n",
              "PRSE2     2849\n",
              "PRCE      2799\n",
              "          ... \n",
              "LIJA         1\n",
              "MAFU         1\n",
              "TR           1\n",
              "CRMO1        1\n",
              "CULA1        1\n",
              "Name: BOTANICAL_NAME, Length: 649, dtype: int64"
            ]
          },
          "metadata": {
            "tags": []
          },
          "execution_count": 20
        }
      ]
    },
    {
      "cell_type": "code",
      "metadata": {
        "id": "tkFWznNIjTDN",
        "colab_type": "code",
        "outputId": "0bac64a9-2381-4486-8d43-d1301d748762",
        "colab": {
          "base_uri": "https://localhost:8080/",
          "height": 225
        }
      },
      "source": [
        "trees['SCIENTIFIC_NAME'].value_counts()"
      ],
      "execution_count": 0,
      "outputs": [
        {
          "output_type": "execute_result",
          "data": {
            "text/plain": [
              "Acer rubrum                       3594\n",
              "Acer platanoides                  3441\n",
              "Crataegus laevigata               3321\n",
              "Prunus  `Kwanzan` (Sato Zakura    2849\n",
              "Prunus cerasifera cv/hyb          2799\n",
              "                                  ... \n",
              "Cedrus libani                        1\n",
              "Viburnum sp.                         1\n",
              "Acer monspessulanum                  1\n",
              "Ulmus rubra                          1\n",
              "Pinus coulteri                       1\n",
              "Name: SCIENTIFIC_NAME, Length: 647, dtype: int64"
            ]
          },
          "metadata": {
            "tags": []
          },
          "execution_count": 21
        }
      ]
    },
    {
      "cell_type": "code",
      "metadata": {
        "id": "8fXJRGsvjXtO",
        "colab_type": "code",
        "outputId": "9f2dc1bf-f3ec-4288-c317-f9fdb6d226bf",
        "colab": {
          "base_uri": "https://localhost:8080/",
          "height": 69
        }
      },
      "source": [
        "trees['HERITAGE'].value_counts()"
      ],
      "execution_count": 0,
      "outputs": [
        {
          "output_type": "execute_result",
          "data": {
            "text/plain": [
              "N    94697\n",
              "Y      201\n",
              "Name: HERITAGE, dtype: int64"
            ]
          },
          "metadata": {
            "tags": []
          },
          "execution_count": 22
        }
      ]
    },
    {
      "cell_type": "code",
      "metadata": {
        "id": "4QGbe3kpkDdY",
        "colab_type": "code",
        "outputId": "7b2ae9d4-fcaa-47d1-c64a-bf20f1f452d9",
        "colab": {
          "base_uri": "https://localhost:8080/",
          "height": 69
        }
      },
      "source": [
        "trees['EXCEPTIONAL'].value_counts()"
      ],
      "execution_count": 0,
      "outputs": [
        {
          "output_type": "execute_result",
          "data": {
            "text/plain": [
              "N    94890\n",
              "Y        8\n",
              "Name: EXCEPTIONAL, dtype: int64"
            ]
          },
          "metadata": {
            "tags": []
          },
          "execution_count": 23
        }
      ]
    },
    {
      "cell_type": "code",
      "metadata": {
        "id": "39o4cyCdkIgy",
        "colab_type": "code",
        "outputId": "b7f5d265-1178-4918-ff3f-0b86362c3bdb",
        "colab": {
          "base_uri": "https://localhost:8080/",
          "height": 69
        }
      },
      "source": [
        "trees['CODEREQ'].value_counts()"
      ],
      "execution_count": 0,
      "outputs": [
        {
          "output_type": "execute_result",
          "data": {
            "text/plain": [
              "N    91886\n",
              "Y     3012\n",
              "Name: CODEREQ, dtype: int64"
            ]
          },
          "metadata": {
            "tags": []
          },
          "execution_count": 24
        }
      ]
    },
    {
      "cell_type": "code",
      "metadata": {
        "id": "eO_LFA3hkPli",
        "colab_type": "code",
        "outputId": "759e65c0-1784-4271-d5d2-3f5ca9b68c5b",
        "colab": {
          "base_uri": "https://localhost:8080/",
          "height": 69
        }
      },
      "source": [
        "trees['GSI'].value_counts()"
      ],
      "execution_count": 0,
      "outputs": [
        {
          "output_type": "execute_result",
          "data": {
            "text/plain": [
              "N    94414\n",
              "Y      484\n",
              "Name: GSI, dtype: int64"
            ]
          },
          "metadata": {
            "tags": []
          },
          "execution_count": 25
        }
      ]
    },
    {
      "cell_type": "code",
      "metadata": {
        "id": "B1vh0mY8kTJR",
        "colab_type": "code",
        "outputId": "cec4344d-1fad-4ad5-eade-5a9bfceb32bc",
        "colab": {
          "base_uri": "https://localhost:8080/",
          "height": 69
        }
      },
      "source": [
        "trees['GREEN_FACTOR'].value_counts()"
      ],
      "execution_count": 0,
      "outputs": [
        {
          "output_type": "execute_result",
          "data": {
            "text/plain": [
              "N    94421\n",
              "Y      477\n",
              "Name: GREEN_FACTOR, dtype: int64"
            ]
          },
          "metadata": {
            "tags": []
          },
          "execution_count": 28
        }
      ]
    },
    {
      "cell_type": "code",
      "metadata": {
        "id": "Jn-6yEMkkcGD",
        "colab_type": "code",
        "outputId": "6238a23d-6342-4595-ab15-e416f183ac36",
        "colab": {
          "base_uri": "https://localhost:8080/",
          "height": 69
        }
      },
      "source": [
        "trees['WIRES'].value_counts()"
      ],
      "execution_count": 0,
      "outputs": [
        {
          "output_type": "execute_result",
          "data": {
            "text/plain": [
              "N    58508\n",
              "Y    36390\n",
              "Name: WIRES, dtype: int64"
            ]
          },
          "metadata": {
            "tags": []
          },
          "execution_count": 29
        }
      ]
    },
    {
      "cell_type": "code",
      "metadata": {
        "id": "sAhVKd7gkxJk",
        "colab_type": "code",
        "outputId": "f45bf46a-aa15-423d-e344-0fb20578832e",
        "colab": {
          "base_uri": "https://localhost:8080/",
          "height": 69
        }
      },
      "source": [
        "trees['CABLED'].value_counts()"
      ],
      "execution_count": 0,
      "outputs": [
        {
          "output_type": "execute_result",
          "data": {
            "text/plain": [
              "N    94857\n",
              "Y       41\n",
              "Name: CABLED, dtype: int64"
            ]
          },
          "metadata": {
            "tags": []
          },
          "execution_count": 30
        }
      ]
    },
    {
      "cell_type": "code",
      "metadata": {
        "id": "ef-w0co-k0Y9",
        "colab_type": "code",
        "outputId": "962a4cb1-d9c5-4ef2-f366-b56291272a00",
        "colab": {
          "base_uri": "https://localhost:8080/",
          "height": 69
        }
      },
      "source": [
        "trees['CLEARANCE_PROBLEM'].value_counts()"
      ],
      "execution_count": 0,
      "outputs": [
        {
          "output_type": "execute_result",
          "data": {
            "text/plain": [
              "N    88363\n",
              "Y     6511\n",
              "Name: CLEARANCE_PROBLEM, dtype: int64"
            ]
          },
          "metadata": {
            "tags": []
          },
          "execution_count": 31
        }
      ]
    },
    {
      "cell_type": "code",
      "metadata": {
        "id": "BxfLnCyTk3a1",
        "colab_type": "code",
        "outputId": "a54c099b-d2b0-4ef9-ffaa-b0a8a3a8d922",
        "colab": {
          "base_uri": "https://localhost:8080/",
          "height": 260
        }
      },
      "source": [
        "trees['SPACETYPE'].value_counts()"
      ],
      "execution_count": 0,
      "outputs": [
        {
          "output_type": "execute_result",
          "data": {
            "text/plain": [
              "GRASS        52709\n",
              "             19201\n",
              "OTHER        13228\n",
              "PAVERS        2332\n",
              "GROUND        1439\n",
              "GRATE         1433\n",
              "MULCH         1228\n",
              "SOIL           912\n",
              "GRAVEL         742\n",
              "CGRATE         552\n",
              "BARK           455\n",
              "BRICK          350\n",
              "PV-POLYMR      317\n",
              "Name: SPACETYPE, dtype: int64"
            ]
          },
          "metadata": {
            "tags": []
          },
          "execution_count": 32
        }
      ]
    },
    {
      "cell_type": "code",
      "metadata": {
        "id": "jA6mywQJk-bF",
        "colab_type": "code",
        "outputId": "7beee6db-fe35-419a-ef3c-b6ddb2b7c74d",
        "colab": {
          "base_uri": "https://localhost:8080/",
          "height": 104
        }
      },
      "source": [
        "trees['SITETYPE'].describe()"
      ],
      "execution_count": 0,
      "outputs": [
        {
          "output_type": "execute_result",
          "data": {
            "text/plain": [
              "count     91509\n",
              "unique        8\n",
              "top            \n",
              "freq      69161\n",
              "Name: SITETYPE, dtype: object"
            ]
          },
          "metadata": {
            "tags": []
          },
          "execution_count": 35
        }
      ]
    },
    {
      "cell_type": "code",
      "metadata": {
        "id": "LamFtxFwlEGO",
        "colab_type": "code",
        "outputId": "e5893086-e4a7-498b-c73b-d1a6ba0a7cf6",
        "colab": {
          "base_uri": "https://localhost:8080/",
          "height": 173
        }
      },
      "source": [
        "trees['GROWSPACE'].describe()"
      ],
      "execution_count": 0,
      "outputs": [
        {
          "output_type": "execute_result",
          "data": {
            "text/plain": [
              "count    94898.000000\n",
              "mean        11.749615\n",
              "std         19.231547\n",
              "min          0.000000\n",
              "25%          5.000000\n",
              "50%          8.000000\n",
              "75%         10.000000\n",
              "max        810.000000\n",
              "Name: GROWSPACE, dtype: float64"
            ]
          },
          "metadata": {
            "tags": []
          },
          "execution_count": 36
        }
      ]
    },
    {
      "cell_type": "code",
      "metadata": {
        "id": "5itHVPHIlMAA",
        "colab_type": "code",
        "outputId": "923b2c08-8866-4170-ab1f-af9cc7f923cf",
        "colab": {
          "base_uri": "https://localhost:8080/",
          "height": 173
        }
      },
      "source": [
        "trees['DIAM'].describe()"
      ],
      "execution_count": 0,
      "outputs": [
        {
          "output_type": "execute_result",
          "data": {
            "text/plain": [
              "count    94898.000000\n",
              "mean         9.264431\n",
              "std          7.880201\n",
              "min          0.000000\n",
              "25%          3.000000\n",
              "50%          7.000000\n",
              "75%         13.000000\n",
              "max        117.000000\n",
              "Name: DIAM, dtype: float64"
            ]
          },
          "metadata": {
            "tags": []
          },
          "execution_count": 37
        }
      ]
    },
    {
      "cell_type": "code",
      "metadata": {
        "id": "42gcXAeIlpFB",
        "colab_type": "code",
        "outputId": "07e2c10b-2f56-4ea2-dfe1-09bdbd9f7e4a",
        "colab": {
          "base_uri": "https://localhost:8080/",
          "height": 225
        }
      },
      "source": [
        "trees['CONDITION_RATING'].value_counts()"
      ],
      "execution_count": 0,
      "outputs": [
        {
          "output_type": "execute_result",
          "data": {
            "text/plain": [
              "4    29416\n",
              "3    15077\n",
              "4    12492\n",
              "5    12464\n",
              "3    10128\n",
              "5     7163\n",
              "2     3556\n",
              "2     2262\n",
              "1     1253\n",
              "1      723\n",
              "       364\n",
              "Name: CONDITION_RATING, dtype: int64"
            ]
          },
          "metadata": {
            "tags": []
          },
          "execution_count": 38
        }
      ]
    },
    {
      "cell_type": "code",
      "metadata": {
        "id": "BIFOSgr8lvL6",
        "colab_type": "code",
        "outputId": "e9eaec54-d2c2-4676-a9ec-1d3a0105e325",
        "colab": {
          "base_uri": "https://localhost:8080/",
          "height": 225
        }
      },
      "source": [
        "trees['FUNDING_SOURCE'].value_counts()"
      ],
      "execution_count": 0,
      "outputs": [
        {
          "output_type": "execute_result",
          "data": {
            "text/plain": [
              "PVT       62251\n",
              "SDOT      20492\n",
              "BTG        4844\n",
              "UTRP       2570\n",
              "DON        2155\n",
              "OTHER      1115\n",
              "PARKS       993\n",
              "T4N         225\n",
              "MOVSEA      102\n",
              "SPU          86\n",
              "NPF          65\n",
              "Name: FUNDING_SOURCE, dtype: int64"
            ]
          },
          "metadata": {
            "tags": []
          },
          "execution_count": 39
        }
      ]
    },
    {
      "cell_type": "code",
      "metadata": {
        "id": "qyYuXjKLl0_K",
        "colab_type": "code",
        "outputId": "6c53c24c-bc65-43bc-c7cc-29f7eafb1a3e",
        "colab": {
          "base_uri": "https://localhost:8080/",
          "height": 312
        }
      },
      "source": [
        "trees['WATER_THROUGH_YR1'].value_counts()"
      ],
      "execution_count": 0,
      "outputs": [
        {
          "output_type": "execute_result",
          "data": {
            "text/plain": [
              "0.0       92881\n",
              "2009.0      596\n",
              "2013.0      395\n",
              "2010.0      288\n",
              "2008.0      244\n",
              "2011.0      153\n",
              "2012.0       99\n",
              "2014.0       96\n",
              "2016.0       90\n",
              "2015.0       29\n",
              "1995.0       18\n",
              "1996.0        3\n",
              "2007.0        2\n",
              "1998.0        2\n",
              "1992.0        1\n",
              "1991.0        1\n",
              "Name: WATER_THROUGH_YR1, dtype: int64"
            ]
          },
          "metadata": {
            "tags": []
          },
          "execution_count": 41
        }
      ]
    },
    {
      "cell_type": "code",
      "metadata": {
        "id": "oL_dSHznmCr1",
        "colab_type": "code",
        "outputId": "db38cbf3-b197-43b8-c0cb-54aaa31a00a5",
        "colab": {
          "base_uri": "https://localhost:8080/",
          "height": 312
        }
      },
      "source": [
        "trees['OWNERDIAM'].value_counts()"
      ],
      "execution_count": 0,
      "outputs": [
        {
          "output_type": "execute_result",
          "data": {
            "text/plain": [
              "PRIV1    45036\n",
              "PRIV2    17058\n",
              "SDOT1    16301\n",
              "SDOT2     9326\n",
              "PRIV3     3719\n",
              "SDOT3      924\n",
              "PARK2      517\n",
              "PARK3      456\n",
              "x          396\n",
              "PARK1      346\n",
              "SEAC2      327\n",
              "SEAC1      318\n",
              "SEAC3      126\n",
              "SCL1        28\n",
              "SCL2        18\n",
              "SCL3         2\n",
              "Name: OWNERDIAM, dtype: int64"
            ]
          },
          "metadata": {
            "tags": []
          },
          "execution_count": 42
        }
      ]
    },
    {
      "cell_type": "code",
      "metadata": {
        "id": "34SRKoNlmPDl",
        "colab_type": "code",
        "outputId": "668e087f-ea1f-4cc4-a1dd-1973067d6970",
        "colab": {
          "base_uri": "https://localhost:8080/",
          "height": 35
        }
      },
      "source": [
        "trees['EXPDATE'].value_counts()"
      ],
      "execution_count": 0,
      "outputs": [
        {
          "output_type": "execute_result",
          "data": {
            "text/plain": [
              "Series([], Name: EXPDATE, dtype: int64)"
            ]
          },
          "metadata": {
            "tags": []
          },
          "execution_count": 46
        }
      ]
    },
    {
      "cell_type": "code",
      "metadata": {
        "id": "zK09Wo0-mVCu",
        "colab_type": "code",
        "outputId": "ce384e04-84d0-4c9e-f258-19974f849ee7",
        "colab": {
          "base_uri": "https://localhost:8080/",
          "height": 225
        }
      },
      "source": [
        "trees['COMMON_NAME'].value_counts()"
      ],
      "execution_count": 0,
      "outputs": [
        {
          "output_type": "execute_result",
          "data": {
            "text/plain": [
              "Red Maple                   3594\n",
              "Norway Maple                3441\n",
              "English Midland Hawthorn    3321\n",
              "Kwanzan Flowering Cherry    2849\n",
              "Purpleleaf Plum variety     2799\n",
              "                            ... \n",
              "Variegated Giant Dogwood       1\n",
              "Catalina Ironwood              1\n",
              "Chestnut Oak                   1\n",
              "Hiba Arborvitae                1\n",
              "Japanese Angelica Tree         1\n",
              "Name: COMMON_NAME, Length: 649, dtype: int64"
            ]
          },
          "metadata": {
            "tags": []
          },
          "execution_count": 47
        }
      ]
    },
    {
      "cell_type": "code",
      "metadata": {
        "id": "KwcI6tpCmg2f",
        "colab_type": "code",
        "outputId": "4878234b-2a2d-4344-ec93-985dfa566c59",
        "colab": {
          "base_uri": "https://localhost:8080/",
          "height": 173
        }
      },
      "source": [
        "trees['TREEHEIGHT'].describe()"
      ],
      "execution_count": 0,
      "outputs": [
        {
          "output_type": "execute_result",
          "data": {
            "text/plain": [
              "count    93065.000000\n",
              "mean         0.149992\n",
              "std          3.515848\n",
              "min          0.000000\n",
              "25%          0.000000\n",
              "50%          0.000000\n",
              "75%          0.000000\n",
              "max        148.000000\n",
              "Name: TREEHEIGHT, dtype: float64"
            ]
          },
          "metadata": {
            "tags": []
          },
          "execution_count": 48
        }
      ]
    },
    {
      "cell_type": "code",
      "metadata": {
        "id": "SP2dP5oEmn04",
        "colab_type": "code",
        "outputId": "7cb297ad-b10b-4501-806b-c167d2477d0b",
        "colab": {
          "base_uri": "https://localhost:8080/",
          "height": 225
        }
      },
      "source": [
        "trees['ASBUILTPLANNO'].value_counts()"
      ],
      "execution_count": 0,
      "outputs": [
        {
          "output_type": "execute_result",
          "data": {
            "text/plain": [
              "NDS 2015    49\n",
              "211873      19\n",
              "216657      18\n",
              "200639      16\n",
              "182980      16\n",
              "            ..\n",
              "43503.0      1\n",
              "43505.0      1\n",
              "18986        1\n",
              "73560        1\n",
              "73469.0      1\n",
              "Name: ASBUILTPLANNO, Length: 1379, dtype: int64"
            ]
          },
          "metadata": {
            "tags": []
          },
          "execution_count": 49
        }
      ]
    },
    {
      "cell_type": "code",
      "metadata": {
        "id": "dgwRmRjXmxoZ",
        "colab_type": "code",
        "outputId": "5e09d8b6-abce-41ba-878a-c9d68f587ada",
        "colab": {
          "base_uri": "https://localhost:8080/",
          "height": 225
        }
      },
      "source": [
        "trees['GENUS'].value_counts()"
      ],
      "execution_count": 0,
      "outputs": [
        {
          "output_type": "execute_result",
          "data": {
            "text/plain": [
              "Acer          20168\n",
              "Prunus        18416\n",
              "Crataegus      5604\n",
              "Malus          4986\n",
              "Quercus        3936\n",
              "              ...  \n",
              "Buddleja          1\n",
              "Sambucus          1\n",
              "Mahonia           1\n",
              "Thujopsia         1\n",
              "Eriobotrya        1\n",
              "Name: GENUS, Length: 124, dtype: int64"
            ]
          },
          "metadata": {
            "tags": []
          },
          "execution_count": 50
        }
      ]
    },
    {
      "cell_type": "code",
      "metadata": {
        "id": "XAVrEnv6m750",
        "colab_type": "code",
        "outputId": "937f0c6a-db4f-4c66-ba9a-54aaf31763a4",
        "colab": {
          "base_uri": "https://localhost:8080/",
          "height": 314
        }
      },
      "source": [
        "trees.describe()"
      ],
      "execution_count": 0,
      "outputs": [
        {
          "output_type": "execute_result",
          "data": {
            "text/html": [
              "<div>\n",
              "<style scoped>\n",
              "    .dataframe tbody tr th:only-of-type {\n",
              "        vertical-align: middle;\n",
              "    }\n",
              "\n",
              "    .dataframe tbody tr th {\n",
              "        vertical-align: top;\n",
              "    }\n",
              "\n",
              "    .dataframe thead th {\n",
              "        text-align: right;\n",
              "    }\n",
              "</style>\n",
              "<table border=\"1\" class=\"dataframe\">\n",
              "  <thead>\n",
              "    <tr style=\"text-align: right;\">\n",
              "      <th></th>\n",
              "      <th>X</th>\n",
              "      <th>Y</th>\n",
              "      <th>OBJECTID</th>\n",
              "      <th>COMPKEY</th>\n",
              "      <th>COMPTYPE</th>\n",
              "      <th>SEGKEY</th>\n",
              "      <th>GROWSPACE</th>\n",
              "      <th>DIAM</th>\n",
              "      <th>WATER_THROUGH_YR1</th>\n",
              "      <th>WATER_THROUGH_YR2</th>\n",
              "      <th>WATER_THROUGH_YR3</th>\n",
              "      <th>EXPDATE</th>\n",
              "      <th>TREEHEIGHT</th>\n",
              "      <th>LANDSCAPEAREAASSOC</th>\n",
              "      <th>OVERRIDECOMMENT</th>\n",
              "      <th>SHAPE_LNG</th>\n",
              "      <th>SHAPE_LAT</th>\n",
              "      <th>TOTAL_RANK</th>\n",
              "      <th>TOTAL_COUNT</th>\n",
              "      <th>UFMAINTMGMTUNIT</th>\n",
              "    </tr>\n",
              "  </thead>\n",
              "  <tbody>\n",
              "    <tr>\n",
              "      <th>count</th>\n",
              "      <td>165545.000000</td>\n",
              "      <td>165545.000000</td>\n",
              "      <td>165545.000000</td>\n",
              "      <td>165545.000000</td>\n",
              "      <td>165545.0</td>\n",
              "      <td>165545.000000</td>\n",
              "      <td>165545.000000</td>\n",
              "      <td>165545.000000</td>\n",
              "      <td>165545.000000</td>\n",
              "      <td>165545.000000</td>\n",
              "      <td>165545.000000</td>\n",
              "      <td>0.0</td>\n",
              "      <td>163712.000000</td>\n",
              "      <td>165545.0</td>\n",
              "      <td>0.0</td>\n",
              "      <td>165545.000000</td>\n",
              "      <td>165545.000000</td>\n",
              "      <td>164869.000000</td>\n",
              "      <td>164869.000000</td>\n",
              "      <td>0.0</td>\n",
              "    </tr>\n",
              "    <tr>\n",
              "      <th>mean</th>\n",
              "      <td>-122.336835</td>\n",
              "      <td>47.625917</td>\n",
              "      <td>107462.096270</td>\n",
              "      <td>457123.233967</td>\n",
              "      <td>36.0</td>\n",
              "      <td>18720.746383</td>\n",
              "      <td>12.046737</td>\n",
              "      <td>8.445776</td>\n",
              "      <td>34.761847</td>\n",
              "      <td>158.990021</td>\n",
              "      <td>159.069522</td>\n",
              "      <td>NaN</td>\n",
              "      <td>0.099956</td>\n",
              "      <td>1.0</td>\n",
              "      <td>NaN</td>\n",
              "      <td>-122.336835</td>\n",
              "      <td>47.625917</td>\n",
              "      <td>11.144406</td>\n",
              "      <td>14850.982162</td>\n",
              "      <td>NaN</td>\n",
              "    </tr>\n",
              "    <tr>\n",
              "      <th>std</th>\n",
              "      <td>0.038159</td>\n",
              "      <td>0.056616</td>\n",
              "      <td>60397.816855</td>\n",
              "      <td>230655.995575</td>\n",
              "      <td>0.0</td>\n",
              "      <td>53640.503725</td>\n",
              "      <td>19.572684</td>\n",
              "      <td>7.381893</td>\n",
              "      <td>261.991740</td>\n",
              "      <td>541.075948</td>\n",
              "      <td>541.346497</td>\n",
              "      <td>NaN</td>\n",
              "      <td>2.826673</td>\n",
              "      <td>0.0</td>\n",
              "      <td>NaN</td>\n",
              "      <td>0.038159</td>\n",
              "      <td>0.056616</td>\n",
              "      <td>15.036597</td>\n",
              "      <td>14229.441138</td>\n",
              "      <td>NaN</td>\n",
              "    </tr>\n",
              "    <tr>\n",
              "      <th>min</th>\n",
              "      <td>-122.419024</td>\n",
              "      <td>47.495836</td>\n",
              "      <td>1.000000</td>\n",
              "      <td>167717.000000</td>\n",
              "      <td>36.0</td>\n",
              "      <td>1000.000000</td>\n",
              "      <td>0.000000</td>\n",
              "      <td>0.000000</td>\n",
              "      <td>0.000000</td>\n",
              "      <td>0.000000</td>\n",
              "      <td>0.000000</td>\n",
              "      <td>NaN</td>\n",
              "      <td>0.000000</td>\n",
              "      <td>1.0</td>\n",
              "      <td>NaN</td>\n",
              "      <td>-122.419024</td>\n",
              "      <td>47.495836</td>\n",
              "      <td>1.000000</td>\n",
              "      <td>1.000000</td>\n",
              "      <td>NaN</td>\n",
              "    </tr>\n",
              "    <tr>\n",
              "      <th>25%</th>\n",
              "      <td>-122.368949</td>\n",
              "      <td>47.576055</td>\n",
              "      <td>54349.000000</td>\n",
              "      <td>225633.000000</td>\n",
              "      <td>36.0</td>\n",
              "      <td>5310.000000</td>\n",
              "      <td>5.000000</td>\n",
              "      <td>3.000000</td>\n",
              "      <td>0.000000</td>\n",
              "      <td>0.000000</td>\n",
              "      <td>0.000000</td>\n",
              "      <td>NaN</td>\n",
              "      <td>0.000000</td>\n",
              "      <td>1.0</td>\n",
              "      <td>NaN</td>\n",
              "      <td>-122.368949</td>\n",
              "      <td>47.576055</td>\n",
              "      <td>2.000000</td>\n",
              "      <td>2427.000000</td>\n",
              "      <td>NaN</td>\n",
              "    </tr>\n",
              "    <tr>\n",
              "      <th>50%</th>\n",
              "      <td>-122.335067</td>\n",
              "      <td>47.636915</td>\n",
              "      <td>111305.000000</td>\n",
              "      <td>497043.000000</td>\n",
              "      <td>36.0</td>\n",
              "      <td>10838.000000</td>\n",
              "      <td>8.000000</td>\n",
              "      <td>6.000000</td>\n",
              "      <td>0.000000</td>\n",
              "      <td>0.000000</td>\n",
              "      <td>0.000000</td>\n",
              "      <td>NaN</td>\n",
              "      <td>0.000000</td>\n",
              "      <td>1.0</td>\n",
              "      <td>NaN</td>\n",
              "      <td>-122.335067</td>\n",
              "      <td>47.636915</td>\n",
              "      <td>5.000000</td>\n",
              "      <td>6723.000000</td>\n",
              "      <td>NaN</td>\n",
              "    </tr>\n",
              "    <tr>\n",
              "      <th>75%</th>\n",
              "      <td>-122.306102</td>\n",
              "      <td>47.672999</td>\n",
              "      <td>161320.000000</td>\n",
              "      <td>690285.000000</td>\n",
              "      <td>36.0</td>\n",
              "      <td>17036.000000</td>\n",
              "      <td>10.000000</td>\n",
              "      <td>12.000000</td>\n",
              "      <td>0.000000</td>\n",
              "      <td>0.000000</td>\n",
              "      <td>0.000000</td>\n",
              "      <td>NaN</td>\n",
              "      <td>0.000000</td>\n",
              "      <td>1.0</td>\n",
              "      <td>NaN</td>\n",
              "      <td>-122.306102</td>\n",
              "      <td>47.672999</td>\n",
              "      <td>15.000000</td>\n",
              "      <td>28325.000000</td>\n",
              "      <td>NaN</td>\n",
              "    </tr>\n",
              "    <tr>\n",
              "      <th>max</th>\n",
              "      <td>-122.238583</td>\n",
              "      <td>47.734069</td>\n",
              "      <td>204325.000000</td>\n",
              "      <td>763789.000000</td>\n",
              "      <td>36.0</td>\n",
              "      <td>733533.000000</td>\n",
              "      <td>810.000000</td>\n",
              "      <td>130.000000</td>\n",
              "      <td>2017.000000</td>\n",
              "      <td>2018.000000</td>\n",
              "      <td>2019.000000</td>\n",
              "      <td>NaN</td>\n",
              "      <td>148.000000</td>\n",
              "      <td>1.0</td>\n",
              "      <td>NaN</td>\n",
              "      <td>-122.238583</td>\n",
              "      <td>47.734069</td>\n",
              "      <td>142.000000</td>\n",
              "      <td>35552.000000</td>\n",
              "      <td>NaN</td>\n",
              "    </tr>\n",
              "  </tbody>\n",
              "</table>\n",
              "</div>"
            ],
            "text/plain": [
              "                   X              Y  ...    TOTAL_COUNT  UFMAINTMGMTUNIT\n",
              "count  165545.000000  165545.000000  ...  164869.000000              0.0\n",
              "mean     -122.336835      47.625917  ...   14850.982162              NaN\n",
              "std         0.038159       0.056616  ...   14229.441138              NaN\n",
              "min      -122.419024      47.495836  ...       1.000000              NaN\n",
              "25%      -122.368949      47.576055  ...    2427.000000              NaN\n",
              "50%      -122.335067      47.636915  ...    6723.000000              NaN\n",
              "75%      -122.306102      47.672999  ...   28325.000000              NaN\n",
              "max      -122.238583      47.734069  ...   35552.000000              NaN\n",
              "\n",
              "[8 rows x 20 columns]"
            ]
          },
          "metadata": {
            "tags": []
          },
          "execution_count": 54
        }
      ]
    },
    {
      "cell_type": "code",
      "metadata": {
        "id": "HlTkJNXAy2PA",
        "colab_type": "code",
        "colab": {}
      },
      "source": [
        ""
      ],
      "execution_count": 0,
      "outputs": []
    }
  ]
}